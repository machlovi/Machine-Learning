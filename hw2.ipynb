{
 "cells": [
  {
   "cell_type": "code",
   "execution_count": 2,
   "id": "d959df6b-532c-4196-86af-b70cfd85f88e",
   "metadata": {},
   "outputs": [],
   "source": [
    "import random\n",
    "import numpy as np\n",
    "import pandas as pd"
   ]
  },
  {
   "cell_type": "code",
   "execution_count": 23,
   "id": "7d1dd88b-75b2-48b9-9fca-46ea43f57569",
   "metadata": {},
   "outputs": [],
   "source": [
    "df=pd.read_csv('hw2dataNorm.csv')\n",
    "df=df.iloc[:,1:]\n",
    "data=df.to_numpy()\n",
    "# class values\n",
    "y=data[:,-1]\n",
    "X=data[:,:-1]\n",
    "stepSize=0.01\n",
    "\n",
    "w0=np.array([0., 0., 0., 0., 0., 0., 0., 0., 0., 0., 0.])\n",
    "w=np.array([0., 0., 0., 0., 0., 0., 0., 0., 0., 0., 0.])"
   ]
  },
  {
   "cell_type": "code",
   "execution_count": 26,
   "id": "e0aec0b8-1006-4dc3-ad9b-e2f6ad0eb4c2",
   "metadata": {},
   "outputs": [],
   "source": [
    "def sigmoidLikelihood(X,y,w):\n",
    "   \n",
    "    n,m=X.shape\n",
    "        \n",
    "    tem=np.ones((n,1))\n",
    "    \n",
    "    X=np.append(X,tem,1)\n",
    "    g =np.array( 1 / (1 +np.exp( - (X.dot(w) ) )))\n",
    "    \n",
    "    pred=[]\n",
    "    for i in range(0,len(X)): \n",
    "        ML= ((1-g[i])**(1-y[i]))*((g[i])**y[i])    \n",
    "        # pred.append(ML)\n",
    "        \n",
    "    return np.array(g)\n",
    "    "
   ]
  },
  {
   "cell_type": "code",
   "execution_count": 30,
   "id": "3d7c0f06-f8d5-4009-9f47-d681c685f82a",
   "metadata": {
    "tags": []
   },
   "outputs": [
    {
     "data": {
      "text/plain": [
       "array([0.5, 0.5, 0.5, ..., 0.5, 0.5, 0.5])"
      ]
     },
     "execution_count": 33,
     "metadata": {},
     "output_type": "execute_result"
    }
   ],
   "source": [
    "LVector = sigmoidLikelihood(X, y, w)\n",
    "LVector[1]"
   ]
  },
  {
   "cell_type": "markdown",
   "id": "d443d414-0603-4be3-8d6d-65830dcade79",
   "metadata": {},
   "source": [
    "# Q2\n",
    "# a) 249\n",
    "# b)-5991.464547107981"
   ]
  },
  {
   "cell_type": "markdown",
   "id": "586a49fc-3baa-46d4-9124-ffed4b65f4ec",
   "metadata": {},
   "source": [
    "a) If LVector contains all values of 0.05 ([0.05, 0.05, 0.05, ..., 0.05]), how many data points (elements in LVector) are needed for np.prod to estimate the pseudo-likelihood as perfectly 0?"
   ]
  },
  {
   "cell_type": "code",
   "execution_count": 14,
   "id": "0dc997fa-92ae-4069-bfd2-d39750ac16b6",
   "metadata": {},
   "outputs": [
    {
     "name": "stdout",
     "output_type": "stream",
     "text": [
      "249\n"
     ]
    }
   ],
   "source": [
    "x=np.full((2000),0.05)\n",
    "def  count(value):\n",
    "    count=0\n",
    "    for i in range(len(x)):\n",
    "        pro=value**i\n",
    "\n",
    "        if pro==0:\n",
    "            print(count)\n",
    "            break\n",
    "        count+=1\n",
    "count(0.05)"
   ]
  },
  {
   "cell_type": "markdown",
   "id": "5a3a13e2-a721-447a-b561-a336a984eba5",
   "metadata": {},
   "source": [
    "b) What is the pseudo-log-likelihood equivalent given the number of data points from part (a)?"
   ]
  },
  {
   "cell_type": "code",
   "execution_count": 15,
   "id": "4bdca311-6094-4896-9bee-3c20ec2df56f",
   "metadata": {},
   "outputs": [
    {
     "data": {
      "text/plain": [
       "-745.9373361149437"
      ]
     },
     "execution_count": 15,
     "metadata": {},
     "output_type": "execute_result"
    }
   ],
   "source": [
    "n,m=X.shape\n",
    "x=np.full((249),0.05)\n",
    "np.sum(np.log(x))"
   ]
  },
  {
   "cell_type": "code",
   "execution_count": 433,
   "id": "233eb672-7d4a-466e-8c0b-f604d2c9026e",
   "metadata": {},
   "outputs": [
    {
     "data": {
      "text/plain": [
       "0.0"
      ]
     },
     "execution_count": 433,
     "metadata": {},
     "output_type": "execute_result"
    }
   ],
   "source": [
    "# np.prod(x)"
   ]
  },
  {
   "cell_type": "markdown",
   "id": "2f59a7e7-1112-417a-9ad2-82e143b74b38",
   "metadata": {},
   "source": [
    "# Q3"
   ]
  },
  {
   "cell_type": "code",
   "execution_count": 34,
   "id": "30501df2-fe3b-4d06-800f-fe473f4c8740",
   "metadata": {},
   "outputs": [],
   "source": [
    "def learnLogistic(w0,X, y,K):\n",
    "\n",
    "    n,m=X.shape\n",
    "    #creating a n rows of 1 to accomodate b\n",
    "    \n",
    "    tem=np.ones((n,1))\n",
    "\n",
    "    X1=np.append(X,tem,1)\n",
    "    \n",
    "   \n",
    "    \n",
    "    count=0\n",
    "    log_Lvector=[]\n",
    "    \n",
    "    w1=np.copy(w0)\n",
    "    \n",
    "    prob =np.array( 1 / (1 +np.exp( - (X1.dot(w1) ) )))\n",
    "    \n",
    "    \n",
    "    while count!=K:\n",
    "        update=np.zeros(m+1)\n",
    "        \n",
    "        for i,datapt in enumerate(X1):\n",
    "            for j,feature in enumerate(datapt):\n",
    "                update[j] += stepSize *(X1[i,j])*( y[i]-prob[i])\n",
    "\n",
    "        for index,i in enumerate(update):\n",
    "            w1[index] += update[index]\n",
    "        \n",
    "\n",
    "        count+=1\n",
    "        Lvector=sigmoidLikelihood(X,y,w1)\n",
    "        log_Lvector.append(np.sum(np.log(Lvector)))\n",
    "   \n",
    "        \n",
    "    return np.array(w1),np.array(log_Lvector)"
   ]
  },
  {
   "cell_type": "code",
   "execution_count": 36,
   "id": "70a6fac1-1729-45b2-89d3-a3952a42b5ee",
   "metadata": {},
   "outputs": [
    {
     "data": {
      "text/plain": [
       "array([ -6209.84367925, -12203.04638477, -18243.73271559, -24296.55201075,\n",
       "       -30354.25616771, -36414.38707039, -42475.89097829, -48538.24577992,\n",
       "       -54601.16453999, -60664.4766324 ])"
      ]
     },
     "execution_count": 36,
     "metadata": {},
     "output_type": "execute_result"
    }
   ],
   "source": [
    "K=10\n",
    "w,LHistory=learnLogistic(w0,X,y,K)\n",
    "LHistory"
   ]
  },
  {
   "cell_type": "markdown",
   "id": "2a6534ca-22b6-474f-8c37-c0a6e52b5e7c",
   "metadata": {},
   "source": [
    "# Q4"
   ]
  },
  {
   "cell_type": "code",
   "execution_count": 37,
   "id": "9aa05102-c8a5-45fa-b274-724ed9e820ee",
   "metadata": {},
   "outputs": [],
   "source": [
    "def learnLogisticFast(w0,X,y,K):\n",
    "     \n",
    "    n,m=X.shape\n",
    "   \n",
    "    \n",
    "    tem=np.ones((n,1))\n",
    "    \n",
    "    X1=np.append(X,tem,1)\n",
    "   \n",
    "    \n",
    "    dataPt=X1\n",
    "\n",
    "    \n",
    "    count=0\n",
    "    log_Lvector=[]\n",
    "    w1=np.copy(w0)\n",
    "    \n",
    "    prob =np.array( 1 / (1 +np.exp( - (dataPt.dot(w1) ) )))\n",
    "    \n",
    "    while count!=K:\n",
    "        update=np.zeros(m+1)\n",
    "    \n",
    "        for i in range(len(X1)):\n",
    "\n",
    "             update+= stepSize *(X1[i,:])*( y[i]-prob[i])\n",
    "\n",
    "        for index,i in enumerate(update):\n",
    "            w1[index] += update[index]\n",
    "\n",
    "        count+=1\n",
    "        Lvector=sigmoidLikelihood(X,y,w1)\n",
    "        log_Lvector.append(np.sum(np.log(Lvector)))\n",
    "        \n",
    "    return np.array(w1),np.array(log_Lvector)"
   ]
  },
  {
   "cell_type": "code",
   "execution_count": 38,
   "id": "c2e3d797-b52f-476f-ac19-d26cd3cbb03c",
   "metadata": {},
   "outputs": [
    {
     "data": {
      "text/plain": [
       "array([ -6209.84367925, -12203.04638477, -18243.73271559, -24296.55201075,\n",
       "       -30354.25616771, -36414.38707039, -42475.89097829, -48538.24577992,\n",
       "       -54601.16453999, -60664.4766324 ])"
      ]
     },
     "execution_count": 38,
     "metadata": {},
     "output_type": "execute_result"
    }
   ],
   "source": [
    "K=10\n",
    "w,LHistory=learnLogisticFast(w0,X,y,K)\n",
    "LHistory"
   ]
  },
  {
   "cell_type": "markdown",
   "id": "60fc760f-0def-4f33-b59f-5078a5efffb9",
   "metadata": {},
   "source": [
    "# Part b\n",
    "K=10\n",
    "# learnLogistic(w0,X,y,K) = 0.46728801727294920\n",
    "# learnLogisticFast(w0,X,y,K)=0.2627539634704590"
   ]
  },
  {
   "cell_type": "code",
   "execution_count": 42,
   "id": "331812d6-b292-4de0-89ec-624922e41e79",
   "metadata": {},
   "outputs": [],
   "source": [
    "df=pd.read_csv('hw2dataNorm.csv')\n",
    "df=df.iloc[:,1:]\n",
    "data=df.to_numpy()\n",
    "# class values\n",
    "y=data[:,-1]\n",
    "X=data[:,:-1]\n",
    "w0=np.array([0., 0., 0., 0., 0., 0., 0., 0., 0., 0., 0.])"
   ]
  },
  {
   "cell_type": "code",
   "execution_count": 39,
   "id": "5d6eae00-f248-4117-ae86-86e3a526d3e8",
   "metadata": {
    "tags": []
   },
   "outputs": [
    {
     "name": "stdout",
     "output_type": "stream",
     "text": [
      "0.4672880172729492\n"
     ]
    }
   ],
   "source": [
    "import time\n",
    "timeStart=time.time()\n",
    "K=10\n",
    "w,LHistory=learnLogistic(w0,X,y,K)\n",
    "timeEnd=time.time()\n",
    "print(timeEnd-timeStart)\n"
   ]
  },
  {
   "cell_type": "code",
   "execution_count": 43,
   "id": "d0ece71d-17dd-4526-aac8-803f47b069ff",
   "metadata": {
    "tags": []
   },
   "outputs": [
    {
     "name": "stdout",
     "output_type": "stream",
     "text": [
      "0.262753963470459\n"
     ]
    }
   ],
   "source": [
    "\n",
    "import time\n",
    "timeStart=time.time()\n",
    "K=10\n",
    "\n",
    "w0=np.array([0., 0., 0., 0., 0., 0., 0., 0., 0., 0., 0.])\n",
    "w,LHistory=learnLogisticFast(w0,X,y,K)\n",
    "timeEnd=time.time()\n",
    "print(timeEnd-timeStart)\n"
   ]
  },
  {
   "cell_type": "markdown",
   "id": "903e8d55-bbd9-442f-99e3-82226c441b7d",
   "metadata": {},
   "source": [
    "# Q5"
   ]
  },
  {
   "cell_type": "code",
   "execution_count": 89,
   "id": "d113fe9c-9c4d-4051-9ea6-b61fc6ffb04e",
   "metadata": {},
   "outputs": [],
   "source": [
    "# df=pd.read_csv('hw2dataNorm.csv')\n",
    "# df=df.iloc[:,1:]\n",
    "# data=df.to_numpy()\n",
    "# y=data[:,-1]\n",
    "# x=data[:,:-1]\n",
    "# w=np.array([0., 0., 0., 0., 0., 0., 0., 0., 0., 0., 0.])"
   ]
  },
  {
   "cell_type": "code",
   "execution_count": 90,
   "id": "6d071084-6ef8-4c4f-808d-8f0038e52ece",
   "metadata": {},
   "outputs": [],
   "source": [
    "def logisticClassify(x,w):\n",
    "   \n",
    "\n",
    "    n,m=x.shape\n",
    "\n",
    "    tem=np.ones((n,1))\n",
    "    \n",
    "    x=np.append(x,tem,1)\n",
    "    \n",
    "    Y_pred =np.array( 1 / (1 +np.exp( - (x.dot(w) ) )))\n",
    "    \n",
    "    Y_pred = np.where( Y_pred < 0.5,0,1)\n",
    "    # this is pseudo-code!\n",
    "    return np.array(Y_pred)"
   ]
  },
  {
   "cell_type": "code",
   "execution_count": 91,
   "id": "01f2d1fa-27d9-4015-bcac-e6a4b1249c47",
   "metadata": {},
   "outputs": [],
   "source": [
    "classLabels=logisticClassify(x,w)"
   ]
  },
  {
   "cell_type": "code",
   "execution_count": null,
   "id": "8712e793-9aeb-4324-a1e5-0024412c9bb8",
   "metadata": {},
   "outputs": [],
   "source": []
  }
 ],
 "metadata": {
  "kernelspec": {
   "display_name": "Python 3 (ipykernel)",
   "language": "python",
   "name": "python3"
  },
  "language_info": {
   "codemirror_mode": {
    "name": "ipython",
    "version": 3
   },
   "file_extension": ".py",
   "mimetype": "text/x-python",
   "name": "python",
   "nbconvert_exporter": "python",
   "pygments_lexer": "ipython3",
   "version": "3.9.7"
  }
 },
 "nbformat": 4,
 "nbformat_minor": 5
}
